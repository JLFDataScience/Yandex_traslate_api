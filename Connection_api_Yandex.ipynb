{
 "cells": [
  {
   "cell_type": "code",
   "execution_count": 2,
   "metadata": {},
   "outputs": [],
   "source": [
    "import pandas as pd\n",
    "import numpy as np\n",
    "import requests"
   ]
  },
  {
   "cell_type": "markdown",
   "metadata": {},
   "source": [
    "#### Probamos la API de Yandex  \n",
    "Referencia: https://tech.yandex.com/translate/doc/dg/reference/translate-docpage/"
   ]
  },
  {
   "cell_type": "code",
   "execution_count": 14,
   "metadata": {},
   "outputs": [
    {
     "name": "stdout",
     "output_type": "stream",
     "text": [
      "<class 'dict'>\n",
      "{'code': 200, 'lang': 'es-en', 'text': ['Hello World']}\n",
      "Hello World\n",
      "<class 'str'>\n"
     ]
    }
   ],
   "source": [
    "key='APIKEY' #Introducir la Apikey suministrada al registrarse en Yandex\n",
    "text = 'Hola Mundo'\n",
    "lang = 'en'\n",
    "url_yandex =\"https://translate.yandex.net/api/v1.5/tr.json/translate?key=%s&text=%s&lang=%s\" % (key,text,lang)\n",
    "\n",
    "response = requests.get(url_yandex)\n",
    "response_data = eval(response.content.decode('utf-8')) #Convertir str en dict\n",
    "#response_data = json.loads(response_data)\n",
    "print(type(response_data))\n",
    "print(response_data)\n",
    "print(response_data['text'][0])\n",
    "print(type(response_data['text'][0]))"
   ]
  },
  {
   "cell_type": "code",
   "execution_count": 4,
   "metadata": {},
   "outputs": [],
   "source": [
    "#Desarrollamos una función para automatizar la traducción\n",
    "def traslate(text, key):\n",
    "    lang = 'en'\n",
    "    url_yandex =\"https://translate.yandex.net/api/v1.5/tr.json/translate?key=%s&text=%s&lang=%s\" % (key,text,lang)\n",
    "    time.sleep(0.3)\n",
    "    response = requests.get(url_yandex, timeout=None)\n",
    "    response_data = eval(response.content.decode('utf-8'))\n",
    "    lb = response_data['text'][0]\n",
    "    return lb"
   ]
  },
  {
   "cell_type": "code",
   "execution_count": 5,
   "metadata": {},
   "outputs": [
    {
     "data": {
      "text/plain": [
       "'Hello World!'"
      ]
     },
     "execution_count": 5,
     "metadata": {},
     "output_type": "execute_result"
    }
   ],
   "source": [
    "#Prueba de funcionamiento de la función\n",
    "text = 'Hello World!'\n",
    "key = 'APIKEY' #insertar la apikey en https://tech.yandex.com/translate/\n",
    "traslate(text, key)"
   ]
  }
 ],
 "metadata": {
  "kernelspec": {
   "display_name": "Python 3",
   "language": "python",
   "name": "python3"
  },
  "language_info": {
   "codemirror_mode": {
    "name": "ipython",
    "version": 3
   },
   "file_extension": ".py",
   "mimetype": "text/x-python",
   "name": "python",
   "nbconvert_exporter": "python",
   "pygments_lexer": "ipython3",
   "version": "3.6.5"
  }
 },
 "nbformat": 4,
 "nbformat_minor": 2
}
